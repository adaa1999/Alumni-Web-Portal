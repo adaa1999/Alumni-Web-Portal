{
  "nbformat": 4,
  "nbformat_minor": 0,
  "metadata": {
    "colab": {
      "name": "TrafficSignClassifier.ipynb",
      "provenance": [],
      "collapsed_sections": [],
      "toc_visible": true,
      "include_colab_link": true
    },
    "kernelspec": {
      "name": "python3",
      "display_name": "Python 3"
    }
  },
  "cells": [
    {
      "cell_type": "markdown",
      "metadata": {
        "id": "view-in-github",
        "colab_type": "text"
      },
      "source": [
        "<a href=\"https://colab.research.google.com/github/adaa1999/Alumni-Web-Portal/blob/master/TrafficSignClassifier.ipynb\" target=\"_parent\"><img src=\"https://colab.research.google.com/assets/colab-badge.svg\" alt=\"Open In Colab\"/></a>"
      ]
    },
    {
      "cell_type": "markdown",
      "metadata": {
        "id": "1dQSsyYJmMUm",
        "colab_type": "text"
      },
      "source": [
        "# Traffic_Sign_Classifier\n"
      ]
    },
    {
      "cell_type": "code",
      "metadata": {
        "id": "axSY_TnaNcz9",
        "colab_type": "code",
        "outputId": "ba8a0aec-86a2-4947-f3fb-dd35aac6c275",
        "colab": {
          "base_uri": "https://localhost:8080/",
          "height": 101
        }
      },
      "source": [
        "#this link is  for getting the data from git bucket\n",
        "!git clone https://njnitesh@bitbucket.org/njnitesh/traffic_sign_classifier_data.git"
      ],
      "execution_count": 0,
      "outputs": [
        {
          "output_type": "stream",
          "text": [
            "Cloning into 'traffic_sign_classifier_data'...\n",
            "remote: Counting objects: 8, done.\u001b[K\n",
            "remote: Compressing objects: 100% (8/8), done.\u001b[K\n",
            "remote: Total 8 (delta 1), reused 0 (delta 0)\u001b[K\n",
            "Unpacking objects: 100% (8/8), done.\n"
          ],
          "name": "stdout"
        }
      ]
    },
    {
      "cell_type": "code",
      "metadata": {
        "id": "-ZLaWsflQUrN",
        "colab_type": "code",
        "colab": {}
      },
      "source": [
        "# to remove a directory\n",
        "#!rm -r /content/traffic_sign_classifier_data"
      ],
      "execution_count": 0,
      "outputs": []
    },
    {
      "cell_type": "code",
      "metadata": {
        "id": "CvBxywDmNoyi",
        "colab_type": "code",
        "outputId": "b57ef989-a18b-499d-d491-2d2ad94b8f38",
        "colab": {
          "base_uri": "https://localhost:8080/",
          "height": 34
        }
      },
      "source": [
        "import numpy as np\n",
        "from keras.models import Sequential\n",
        "import matplotlib.pyplot as plt\n",
        "from keras.layers import Dense, Dropout, Flatten\n",
        "from keras.layers.convolutional import Conv2D, MaxPooling2D\n",
        "from keras.optimizers import Adam\n",
        "from keras.utils.np_utils import to_categorical\n",
        "import pickle\n",
        "import pandas as pd\n",
        "import random\n",
        "import cv2"
      ],
      "execution_count": 0,
      "outputs": [
        {
          "output_type": "stream",
          "text": [
            "Using TensorFlow backend.\n"
          ],
          "name": "stderr"
        }
      ]
    },
    {
      "cell_type": "code",
      "metadata": {
        "id": "pTx3BrcZOPsi",
        "colab_type": "code",
        "outputId": "bb0d5adb-1d60-4b05-c917-d173cbf58a90",
        "colab": {
          "base_uri": "https://localhost:8080/",
          "height": 34
        }
      },
      "source": [
        "!ls traffic_sign_classifier_data"
      ],
      "execution_count": 0,
      "outputs": [
        {
          "output_type": "stream",
          "text": [
            "signnames.csv  test.p  train.p\tvalid.p\n"
          ],
          "name": "stdout"
        }
      ]
    },
    {
      "cell_type": "code",
      "metadata": {
        "id": "hk884oPjOmLQ",
        "colab_type": "code",
        "colab": {}
      },
      "source": [
        "np.random.seed(0)"
      ],
      "execution_count": 0,
      "outputs": []
    },
    {
      "cell_type": "code",
      "metadata": {
        "id": "eePwhDUNPe5D",
        "colab_type": "code",
        "colab": {}
      },
      "source": [
        "with open('traffic_sign_classifier_data/train.p','rb') as f:\n",
        "  train_data=pickle.load(f)\n",
        "with open('traffic_sign_classifier_data/valid.p','rb') as f:\n",
        "  val_data=pickle.load(f)\n",
        "with open('traffic_sign_classifier_data/test.p','rb') as f:\n",
        "  test_data=pickle.load(f)  \n",
        "  "
      ],
      "execution_count": 0,
      "outputs": []
    },
    {
      "cell_type": "code",
      "metadata": {
        "id": "gAQzCdZ3Rllt",
        "colab_type": "code",
        "outputId": "2eb84e88-27a1-4973-e3b9-fb4a9daf183b",
        "colab": {
          "base_uri": "https://localhost:8080/",
          "height": 34
        }
      },
      "source": [
        "type(train_data)"
      ],
      "execution_count": 0,
      "outputs": [
        {
          "output_type": "execute_result",
          "data": {
            "text/plain": [
              "dict"
            ]
          },
          "metadata": {
            "tags": []
          },
          "execution_count": 8
        }
      ]
    },
    {
      "cell_type": "code",
      "metadata": {
        "id": "-lRRRrQZRpMM",
        "colab_type": "code",
        "outputId": "44559693-25d9-4b3a-87e1-9b808d77a682",
        "colab": {
          "base_uri": "https://localhost:8080/",
          "height": 34
        }
      },
      "source": [
        "train_data['features'].shape\n",
        "#number of image(34799) or batch size,size of image(32*32),color layer of image"
      ],
      "execution_count": 0,
      "outputs": [
        {
          "output_type": "execute_result",
          "data": {
            "text/plain": [
              "(34799, 32, 32, 3)"
            ]
          },
          "metadata": {
            "tags": []
          },
          "execution_count": 9
        }
      ]
    },
    {
      "cell_type": "code",
      "metadata": {
        "id": "XD2ytwsbRx0c",
        "colab_type": "code",
        "outputId": "dda16001-a0de-4ee8-d4c6-22cf3bf35a1f",
        "colab": {
          "base_uri": "https://localhost:8080/",
          "height": 34
        }
      },
      "source": [
        "train_data['labels'].shape"
      ],
      "execution_count": 0,
      "outputs": [
        {
          "output_type": "execute_result",
          "data": {
            "text/plain": [
              "(34799,)"
            ]
          },
          "metadata": {
            "tags": []
          },
          "execution_count": 10
        }
      ]
    },
    {
      "cell_type": "code",
      "metadata": {
        "id": "rb_QZJThR4lw",
        "colab_type": "code",
        "colab": {}
      },
      "source": [
        "x_train,y_train=train_data[\"features\"],train_data[\"labels\"]\n",
        "x_val,y_val=val_data[\"features\"],val_data[\"labels\"]\n",
        "x_test,y_test=test_data[\"features\"],test_data[\"labels\"]\n",
        "\n"
      ],
      "execution_count": 0,
      "outputs": []
    },
    {
      "cell_type": "code",
      "metadata": {
        "id": "_U4v0UL1Sh65",
        "colab_type": "code",
        "colab": {}
      },
      "source": [
        "data=pd.read_csv('traffic_sign_classifier_data/signnames.csv')"
      ],
      "execution_count": 0,
      "outputs": []
    },
    {
      "cell_type": "code",
      "metadata": {
        "id": "W6BPLBrXTYy_",
        "colab_type": "code",
        "outputId": "28379e01-0001-4b69-a389-f6bf60f0f444",
        "colab": {
          "base_uri": "https://localhost:8080/",
          "height": 197
        }
      },
      "source": [
        "data.head()"
      ],
      "execution_count": 0,
      "outputs": [
        {
          "output_type": "execute_result",
          "data": {
            "text/html": [
              "<div>\n",
              "<style scoped>\n",
              "    .dataframe tbody tr th:only-of-type {\n",
              "        vertical-align: middle;\n",
              "    }\n",
              "\n",
              "    .dataframe tbody tr th {\n",
              "        vertical-align: top;\n",
              "    }\n",
              "\n",
              "    .dataframe thead th {\n",
              "        text-align: right;\n",
              "    }\n",
              "</style>\n",
              "<table border=\"1\" class=\"dataframe\">\n",
              "  <thead>\n",
              "    <tr style=\"text-align: right;\">\n",
              "      <th></th>\n",
              "      <th>ClassId</th>\n",
              "      <th>SignName</th>\n",
              "    </tr>\n",
              "  </thead>\n",
              "  <tbody>\n",
              "    <tr>\n",
              "      <th>0</th>\n",
              "      <td>0</td>\n",
              "      <td>Speed limit (20km/h)</td>\n",
              "    </tr>\n",
              "    <tr>\n",
              "      <th>1</th>\n",
              "      <td>1</td>\n",
              "      <td>Speed limit (30km/h)</td>\n",
              "    </tr>\n",
              "    <tr>\n",
              "      <th>2</th>\n",
              "      <td>2</td>\n",
              "      <td>Speed limit (50km/h)</td>\n",
              "    </tr>\n",
              "    <tr>\n",
              "      <th>3</th>\n",
              "      <td>3</td>\n",
              "      <td>Speed limit (60km/h)</td>\n",
              "    </tr>\n",
              "    <tr>\n",
              "      <th>4</th>\n",
              "      <td>4</td>\n",
              "      <td>Speed limit (70km/h)</td>\n",
              "    </tr>\n",
              "  </tbody>\n",
              "</table>\n",
              "</div>"
            ],
            "text/plain": [
              "   ClassId              SignName\n",
              "0        0  Speed limit (20km/h)\n",
              "1        1  Speed limit (30km/h)\n",
              "2        2  Speed limit (50km/h)\n",
              "3        3  Speed limit (60km/h)\n",
              "4        4  Speed limit (70km/h)"
            ]
          },
          "metadata": {
            "tags": []
          },
          "execution_count": 13
        }
      ]
    },
    {
      "cell_type": "code",
      "metadata": {
        "id": "fp3rZTu6VRI0",
        "colab_type": "code",
        "colab": {}
      },
      "source": [
        ""
      ],
      "execution_count": 0,
      "outputs": []
    },
    {
      "cell_type": "code",
      "metadata": {
        "id": "FYQ2-O1fTbEO",
        "colab_type": "code",
        "outputId": "49321354-1356-4d54-c76c-24e7f398a415",
        "colab": {
          "base_uri": "https://localhost:8080/",
          "height": 34
        }
      },
      "source": [
        "y_train"
      ],
      "execution_count": 0,
      "outputs": [
        {
          "output_type": "execute_result",
          "data": {
            "text/plain": [
              "array([41, 41, 41, ..., 25, 25, 25], dtype=uint8)"
            ]
          },
          "metadata": {
            "tags": []
          },
          "execution_count": 14
        }
      ]
    },
    {
      "cell_type": "code",
      "metadata": {
        "id": "m7aJCjcjVSmL",
        "colab_type": "code",
        "outputId": "8a1e4cc9-9f3e-4683-b96a-a1569fedd487",
        "colab": {
          "base_uri": "https://localhost:8080/",
          "height": 336
        }
      },
      "source": [
        "data.SignName.values"
      ],
      "execution_count": 0,
      "outputs": [
        {
          "output_type": "execute_result",
          "data": {
            "text/plain": [
              "array(['Speed limit (20km/h)', 'Speed limit (30km/h)',\n",
              "       'Speed limit (50km/h)', 'Speed limit (60km/h)',\n",
              "       'Speed limit (70km/h)', 'Speed limit (80km/h)',\n",
              "       'End of speed limit (80km/h)', 'Speed limit (100km/h)',\n",
              "       'Speed limit (120km/h)', 'No passing',\n",
              "       'No passing for vechiles over 3.5 metric tons',\n",
              "       'Right-of-way at the next intersection', 'Priority road', 'Yield',\n",
              "       'Stop', 'No vechiles', 'Vechiles over 3.5 metric tons prohibited',\n",
              "       'No entry', 'General caution', 'Dangerous curve to the left',\n",
              "       'Dangerous curve to the right', 'Double curve', 'Bumpy road',\n",
              "       'Slippery road', 'Road narrows on the right', 'Road work',\n",
              "       'Traffic signals', 'Pedestrians', 'Children crossing',\n",
              "       'Bicycles crossing', 'Beware of ice/snow', 'Wild animals crossing',\n",
              "       'End of all speed and passing limits', 'Turn right ahead',\n",
              "       'Turn left ahead', 'Ahead only', 'Go straight or right',\n",
              "       'Go straight or left', 'Keep right', 'Keep left',\n",
              "       'Roundabout mandatory', 'End of no passing',\n",
              "       'End of no passing by vechiles over 3.5 metric tons'], dtype=object)"
            ]
          },
          "metadata": {
            "tags": []
          },
          "execution_count": 15
        }
      ]
    },
    {
      "cell_type": "code",
      "metadata": {
        "id": "aw5r4y3bToeX",
        "colab_type": "code",
        "outputId": "ac805800-be81-42d1-f4a4-faeeaff59dec",
        "colab": {
          "base_uri": "https://localhost:8080/",
          "height": 1000
        }
      },
      "source": [
        "p=pd.Series(y_train).value_counts()\n",
        "plt.figure(figsize=(10,5))\n",
        "\n",
        "plt.bar(p.index,p.values)\n",
        "plt.xticks(p.index,data.SignName,rotation=90)"
      ],
      "execution_count": 0,
      "outputs": [
        {
          "output_type": "execute_result",
          "data": {
            "text/plain": [
              "([<matplotlib.axis.XTick at 0x7f3b3a5b60b8>,\n",
              "  <matplotlib.axis.XTick at 0x7f3aff5f9390>,\n",
              "  <matplotlib.axis.XTick at 0x7f3aff5f9240>,\n",
              "  <matplotlib.axis.XTick at 0x7f3aff590898>,\n",
              "  <matplotlib.axis.XTick at 0x7f3aff590d30>,\n",
              "  <matplotlib.axis.XTick at 0x7f3aff59f240>,\n",
              "  <matplotlib.axis.XTick at 0x7f3aff590dd8>,\n",
              "  <matplotlib.axis.XTick at 0x7f3aff59f7f0>,\n",
              "  <matplotlib.axis.XTick at 0x7f3aff59fcf8>,\n",
              "  <matplotlib.axis.XTick at 0x7f3aff526240>,\n",
              "  <matplotlib.axis.XTick at 0x7f3aff526748>,\n",
              "  <matplotlib.axis.XTick at 0x7f3aff526c50>,\n",
              "  <matplotlib.axis.XTick at 0x7f3aff52f198>,\n",
              "  <matplotlib.axis.XTick at 0x7f3aff52f6a0>,\n",
              "  <matplotlib.axis.XTick at 0x7f3aff52fba8>,\n",
              "  <matplotlib.axis.XTick at 0x7f3aff52fa20>,\n",
              "  <matplotlib.axis.XTick at 0x7f3aff526a58>,\n",
              "  <matplotlib.axis.XTick at 0x7f3aff59f748>,\n",
              "  <matplotlib.axis.XTick at 0x7f3aff536518>,\n",
              "  <matplotlib.axis.XTick at 0x7f3aff536a20>,\n",
              "  <matplotlib.axis.XTick at 0x7f3aff536f28>,\n",
              "  <matplotlib.axis.XTick at 0x7f3aff53f470>,\n",
              "  <matplotlib.axis.XTick at 0x7f3aff53f978>,\n",
              "  <matplotlib.axis.XTick at 0x7f3aff53fe80>,\n",
              "  <matplotlib.axis.XTick at 0x7f3aff53f780>,\n",
              "  <matplotlib.axis.XTick at 0x7f3aff536b00>,\n",
              "  <matplotlib.axis.XTick at 0x7f3aff5473c8>,\n",
              "  <matplotlib.axis.XTick at 0x7f3aff547860>,\n",
              "  <matplotlib.axis.XTick at 0x7f3aff547d68>,\n",
              "  <matplotlib.axis.XTick at 0x7f3aff54f2b0>,\n",
              "  <matplotlib.axis.XTick at 0x7f3aff54f7b8>,\n",
              "  <matplotlib.axis.XTick at 0x7f3aff54fcc0>,\n",
              "  <matplotlib.axis.XTick at 0x7f3aff558208>,\n",
              "  <matplotlib.axis.XTick at 0x7f3aff54f710>,\n",
              "  <matplotlib.axis.XTick at 0x7f3aff547908>,\n",
              "  <matplotlib.axis.XTick at 0x7f3aff5585c0>,\n",
              "  <matplotlib.axis.XTick at 0x7f3aff558ba8>,\n",
              "  <matplotlib.axis.XTick at 0x7f3aff4e0160>,\n",
              "  <matplotlib.axis.XTick at 0x7f3aff4e05f8>,\n",
              "  <matplotlib.axis.XTick at 0x7f3aff4e0b00>,\n",
              "  <matplotlib.axis.XTick at 0x7f3aff4e70b8>,\n",
              "  <matplotlib.axis.XTick at 0x7f3aff4e7550>,\n",
              "  <matplotlib.axis.XTick at 0x7f3aff4e7a58>],\n",
              " <a list of 43 Text xticklabel objects>)"
            ]
          },
          "metadata": {
            "tags": []
          },
          "execution_count": 16
        },
        {
          "output_type": "display_data",
          "data": {
            "image/png": "[encoded data removed]",
            "text/plain": [
              "<Figure size 720x360 with 1 Axes>"
            ]
          },
          "metadata": {
            "tags": []
          }
        }
      ]
    },
    {
      "cell_type": "code",
      "metadata": {
        "id": "81OJEvVaTsQl",
        "colab_type": "code",
        "outputId": "35ad9bca-8c32-438e-9125-7177848c3f16",
        "colab": {
          "base_uri": "https://localhost:8080/",
          "height": 70
        }
      },
      "source": [
        "np.unique(y_train)"
      ],
      "execution_count": 0,
      "outputs": [
        {
          "output_type": "execute_result",
          "data": {
            "text/plain": [
              "array([ 0,  1,  2,  3,  4,  5,  6,  7,  8,  9, 10, 11, 12, 13, 14, 15, 16,\n",
              "       17, 18, 19, 20, 21, 22, 23, 24, 25, 26, 27, 28, 29, 30, 31, 32, 33,\n",
              "       34, 35, 36, 37, 38, 39, 40, 41, 42], dtype=uint8)"
            ]
          },
          "metadata": {
            "tags": []
          },
          "execution_count": 17
        }
      ]
    },
    {
      "cell_type": "code",
      "metadata": {
        "id": "TtUHj41CUmZa",
        "colab_type": "code",
        "outputId": "34ac5521-ee9b-4b91-b14a-c3fc3774b282",
        "colab": {
          "base_uri": "https://localhost:8080/",
          "height": 286
        }
      },
      "source": [
        "plt.bar(np.unique(y_train),p.values)"
      ],
      "execution_count": 0,
      "outputs": [
        {
          "output_type": "execute_result",
          "data": {
            "text/plain": [
              "<BarContainer object of 43 artists>"
            ]
          },
          "metadata": {
            "tags": []
          },
          "execution_count": 18
        },
        {
          "output_type": "display_data",
          "data": {
            "image/png": "[encoded data removed]",
            "text/plain": [
              "<Figure size 432x288 with 1 Axes>"
            ]
          },
          "metadata": {
            "tags": []
          }
        }
      ]
    },
    {
      "cell_type": "code",
      "metadata": {
        "id": "l7vj5o6DXuWC",
        "colab_type": "code",
        "outputId": "1366e75c-12f9-4171-fcfe-4249763ae799",
        "colab": {
          "base_uri": "https://localhost:8080/",
          "height": 120
        }
      },
      "source": [
        "#equalize distribute the two colors in an image equally and then enhances the intensity of another a particular data that is to be observed\n",
        "gray=cv2.cvtColor(x_train[1],cv2.COLOR_RGB2GRAY)\n",
        "equalized=cv2.equalizeHist(gray)\n",
        "fig,axis=plt.subplots(ncols=2,nrows=1,figsize=(2,1))\n",
        "axis[0].imshow(equalized,cmap=plt.get_cmap(\"gray\"))\n",
        "axis[1].imshow(gray,cmap=plt.get_cmap(\"gray\"))"
      ],
      "execution_count": 0,
      "outputs": [
        {
          "output_type": "execute_result",
          "data": {
            "text/plain": [
              "<matplotlib.image.AxesImage at 0x7f3afcb745f8>"
            ]
          },
          "metadata": {
            "tags": []
          },
          "execution_count": 19
        },
        {
          "output_type": "display_data",
          "data": {
            "image/png": "[encoded data removed]",
            "text/plain": [
              "<Figure size 144x72 with 2 Axes>"
            ]
          },
          "metadata": {
            "tags": []
          }
        }
      ]
    },
    {
      "cell_type": "code",
      "metadata": {
        "id": "YSGlJnp-Yh1O",
        "colab_type": "code",
        "colab": {}
      },
      "source": [
        "def pre_pro(image):\n",
        "  gray=cv2.cvtColor(image,cv2.COLOR_RGB2GRAY)\n",
        "  equl=cv2.equalizeHist(gray)\n",
        "  \n",
        "  return equl/255"
      ],
      "execution_count": 0,
      "outputs": []
    },
    {
      "cell_type": "code",
      "metadata": {
        "id": "JC6pC0r9Zhaz",
        "colab_type": "code",
        "colab": {}
      },
      "source": [
        "g=list(map(pre_pro,x_train))\n",
        "e=list(map(pre_pro,x_test))\n",
        "d=list(map(pre_pro,x_val))"
      ],
      "execution_count": 0,
      "outputs": []
    },
    {
      "cell_type": "code",
      "metadata": {
        "id": "NTrDanE5Z7K_",
        "colab_type": "code",
        "outputId": "8d791b72-cef8-499f-ee08-e6bf909d3f4f",
        "colab": {
          "base_uri": "https://localhost:8080/",
          "height": 34
        }
      },
      "source": [
        "type(g)"
      ],
      "execution_count": 0,
      "outputs": [
        {
          "output_type": "execute_result",
          "data": {
            "text/plain": [
              "list"
            ]
          },
          "metadata": {
            "tags": []
          },
          "execution_count": 22
        }
      ]
    },
    {
      "cell_type": "code",
      "metadata": {
        "id": "T1R1DhfAZ9Io",
        "colab_type": "code",
        "outputId": "715515e0-6c59-459d-daa4-c586755751f2",
        "colab": {
          "base_uri": "https://localhost:8080/",
          "height": 247
        }
      },
      "source": [
        "\n",
        "g[0]"
      ],
      "execution_count": 0,
      "outputs": [
        {
          "output_type": "execute_result",
          "data": {
            "text/plain": [
              "array([[0.25490196, 0.1372549 , 0.1372549 , ..., 0.46666667, 0.42745098,\n",
              "        0.42745098],\n",
              "       [0.35686275, 0.1372549 , 0.1372549 , ..., 0.46666667, 0.42745098,\n",
              "        0.42745098],\n",
              "       [0.35686275, 0.1372549 , 0.1372549 , ..., 0.46666667, 0.42745098,\n",
              "        0.42745098],\n",
              "       ...,\n",
              "       [0.1372549 , 0.25490196, 0.25490196, ..., 0.1372549 , 0.1372549 ,\n",
              "        0.25490196],\n",
              "       [0.04705882, 0.1372549 , 0.35686275, ..., 0.1372549 , 0.1372549 ,\n",
              "        0.1372549 ],\n",
              "       [0.1372549 , 0.25490196, 0.25490196, ..., 0.1372549 , 0.04705882,\n",
              "        0.        ]])"
            ]
          },
          "metadata": {
            "tags": []
          },
          "execution_count": 23
        }
      ]
    },
    {
      "cell_type": "code",
      "metadata": {
        "id": "jAzeUptdaMsp",
        "colab_type": "code",
        "outputId": "3489fdb9-a48c-4757-95fb-2abfad64c016",
        "colab": {
          "base_uri": "https://localhost:8080/",
          "height": 34
        }
      },
      "source": [
        "g[0].shape"
      ],
      "execution_count": 0,
      "outputs": [
        {
          "output_type": "execute_result",
          "data": {
            "text/plain": [
              "(32, 32)"
            ]
          },
          "metadata": {
            "tags": []
          },
          "execution_count": 24
        }
      ]
    },
    {
      "cell_type": "code",
      "metadata": {
        "id": "wJCNcyGmaPcN",
        "colab_type": "code",
        "colab": {}
      },
      "source": [
        "nx_train=np.array(g)\n",
        "nx_train=nx_train.reshape(-1,32,32,1)\n",
        "nx_test=np.array(e)\n",
        "nx_test=nx_test.reshape(-1,32,32,1)\n",
        "nx_val=np.array(d)\n",
        "nx_test=nx_test.reshape(-1,32,32,1)"
      ],
      "execution_count": 0,
      "outputs": []
    },
    {
      "cell_type": "code",
      "metadata": {
        "id": "Hf7oomozbFwr",
        "colab_type": "code",
        "colab": {}
      },
      "source": [
        "y_train=to_categorical(y_train)\n",
        "y_test=to_categorical(y_test)\n",
        "y_val=to_categorical(y_val)"
      ],
      "execution_count": 0,
      "outputs": []
    },
    {
      "cell_type": "code",
      "metadata": {
        "id": "o31Amt1tbtkO",
        "colab_type": "code",
        "outputId": "c08ef609-0c4a-4eaa-8c28-f18e7e010efb",
        "colab": {
          "base_uri": "https://localhost:8080/",
          "height": 34
        }
      },
      "source": [
        "y_train.shape"
      ],
      "execution_count": 0,
      "outputs": [
        {
          "output_type": "execute_result",
          "data": {
            "text/plain": [
              "(34799, 43)"
            ]
          },
          "metadata": {
            "tags": []
          },
          "execution_count": 27
        }
      ]
    },
    {
      "cell_type": "code",
      "metadata": {
        "id": "g-NvjS3RbzZf",
        "colab_type": "code",
        "colab": {}
      },
      "source": [
        "nrow=43\n",
        "ncol=10"
      ],
      "execution_count": 0,
      "outputs": []
    },
    {
      "cell_type": "code",
      "metadata": {
        "id": "0-dwPF09cWaw",
        "colab_type": "code",
        "colab": {}
      },
      "source": [
        "def lenet_model():\n",
        "    model=Sequential()\n",
        "    model.add(Conv2D(30, (5,5), input_shape=(32,32,1), activation=\"relu\"))\n",
        "    model.add(MaxPooling2D(pool_size=(2,2)))\n",
        "    model.add(Conv2D(15, (3,3), activation=\"relu\"))\n",
        "    model.add(Dropout(0.5))\n",
        "    model.add(MaxPooling2D(pool_size=(2,2)))\n",
        "    model.add(Flatten())\n",
        "    model.add(Dense(500, activation=\"relu\"))\n",
        "    model.add(Dropout(0.7))\n",
        "    model.add(Dense(nrow, activation=\"softmax\"))\n",
        "    model.compile(Adam(lr=0.001), loss=\"categorical_crossentropy\", metrics=[\"accuracy\"] )\n",
        "    return model  "
      ],
      "execution_count": 0,
      "outputs": []
    },
    {
      "cell_type": "code",
      "metadata": {
        "id": "RLuqwaCynDAe",
        "colab_type": "code",
        "colab": {}
      },
      "source": [
        "nx_val=nx_val.reshape(4410,32,32,1)"
      ],
      "execution_count": 0,
      "outputs": []
    },
    {
      "cell_type": "code",
      "metadata": {
        "id": "7QEnz3O1ctNe",
        "colab_type": "code",
        "outputId": "6013b2e7-6f7b-44b2-8f70-3578bf04356e",
        "colab": {
          "base_uri": "https://localhost:8080/",
          "height": 1000
        }
      },
      "source": [
        "lenet=lenet_model()\n",
        "lenet.summary()\n",
        "history=lenet.fit(nx_train, y_train, epochs=50, validation_data=(nx_val, y_val), shuffle=1, verbose=1, batch_size=400)\n",
        "#accuracy must be greater than validation accuracy to avoid overfitting"
      ],
      "execution_count": 0,
      "outputs": [
        {
          "output_type": "stream",
          "text": [
            "WARNING: Logging before flag parsing goes to stderr.\n",
            "W0803 09:21:18.532829 139892470368128 deprecation_wrapper.py:119] From /usr/local/lib/python3.6/dist-packages/keras/backend/tensorflow_backend.py:74: The name tf.get_default_graph is deprecated. Please use tf.compat.v1.get_default_graph instead.\n",
            "\n",
            "W0803 09:21:18.581385 139892470368128 deprecation_wrapper.py:119] From /usr/local/lib/python3.6/dist-packages/keras/backend/tensorflow_backend.py:517: The name tf.placeholder is deprecated. Please use tf.compat.v1.placeholder instead.\n",
            "\n",
            "W0803 09:21:18.593680 139892470368128 deprecation_wrapper.py:119] From /usr/local/lib/python3.6/dist-packages/keras/backend/tensorflow_backend.py:4138: The name tf.random_uniform is deprecated. Please use tf.random.uniform instead.\n",
            "\n",
            "W0803 09:21:18.640575 139892470368128 deprecation_wrapper.py:119] From /usr/local/lib/python3.6/dist-packages/keras/backend/tensorflow_backend.py:3976: The name tf.nn.max_pool is deprecated. Please use tf.nn.max_pool2d instead.\n",
            "\n",
            "W0803 09:21:18.661528 139892470368128 deprecation_wrapper.py:119] From /usr/local/lib/python3.6/dist-packages/keras/backend/tensorflow_backend.py:133: The name tf.placeholder_with_default is deprecated. Please use tf.compat.v1.placeholder_with_default instead.\n",
            "\n",
            "W0803 09:21:18.674957 139892470368128 deprecation.py:506] From /usr/local/lib/python3.6/dist-packages/keras/backend/tensorflow_backend.py:3445: calling dropout (from tensorflow.python.ops.nn_ops) with keep_prob is deprecated and will be removed in a future version.\n",
            "Instructions for updating:\n",
            "Please use `rate` instead of `keep_prob`. Rate should be set to `rate = 1 - keep_prob`.\n",
            "W0803 09:21:18.729037 139892470368128 nn_ops.py:4224] Large dropout rate: 0.7 (>0.5). In TensorFlow 2.x, dropout() uses dropout rate instead of keep_prob. Please ensure that this is intended.\n",
            "W0803 09:21:18.781063 139892470368128 deprecation_wrapper.py:119] From /usr/local/lib/python3.6/dist-packages/keras/optimizers.py:790: The name tf.train.Optimizer is deprecated. Please use tf.compat.v1.train.Optimizer instead.\n",
            "\n",
            "W0803 09:21:18.793395 139892470368128 deprecation_wrapper.py:119] From /usr/local/lib/python3.6/dist-packages/keras/backend/tensorflow_backend.py:3295: The name tf.log is deprecated. Please use tf.math.log instead.\n",
            "\n",
            "W0803 09:21:18.937573 139892470368128 deprecation.py:323] From /usr/local/lib/python3.6/dist-packages/tensorflow/python/ops/math_grad.py:1250: add_dispatch_support.<locals>.wrapper (from tensorflow.python.ops.array_ops) is deprecated and will be removed in a future version.\n",
            "Instructions for updating:\n",
            "Use tf.where in 2.0, which has the same broadcast rule as np.where\n"
          ],
          "name": "stderr"
        },
        {
          "output_type": "stream",
          "text": [
            "_________________________________________________________________\n",
            "Layer (type)                 Output Shape              Param #   \n",
            "=================================================================\n",
            "conv2d_1 (Conv2D)            (None, 28, 28, 30)        780       \n",
            "_________________________________________________________________\n",
            "max_pooling2d_1 (MaxPooling2 (None, 14, 14, 30)        0         \n",
            "_________________________________________________________________\n",
            "conv2d_2 (Conv2D)            (None, 12, 12, 15)        4065      \n",
            "_________________________________________________________________\n",
            "dropout_1 (Dropout)          (None, 12, 12, 15)        0         \n",
            "_________________________________________________________________\n",
            "max_pooling2d_2 (MaxPooling2 (None, 6, 6, 15)          0         \n",
            "_________________________________________________________________\n",
            "flatten_1 (Flatten)          (None, 540)               0         \n",
            "_________________________________________________________________\n",
            "dense_1 (Dense)              (None, 500)               270500    \n",
            "_________________________________________________________________\n",
            "dropout_2 (Dropout)          (None, 500)               0         \n",
            "_________________________________________________________________\n",
            "dense_2 (Dense)              (None, 43)                21543     \n",
            "=================================================================\n",
            "Total params: 296,888\n",
            "Trainable params: 296,888\n",
            "Non-trainable params: 0\n",
            "_________________________________________________________________\n",
            "Train on 34799 samples, validate on 4410 samples\n",
            "Epoch 1/50\n",
            "34799/34799 [==============================] - 30s 874us/step - loss: 2.7317 - acc: 0.2796 - val_loss: 1.7629 - val_acc: 0.6068\n",
            "Epoch 2/50\n",
            "34799/34799 [==============================] - 30s 850us/step - loss: 1.2139 - acc: 0.6319 - val_loss: 0.9696 - val_acc: 0.7927\n",
            "Epoch 3/50\n",
            "34799/34799 [==============================] - 30s 852us/step - loss: 0.8198 - acc: 0.7441 - val_loss: 0.7047 - val_acc: 0.8435\n",
            "Epoch 4/50\n",
            "34799/34799 [==============================] - 30s 857us/step - loss: 0.6386 - acc: 0.7986 - val_loss: 0.5916 - val_acc: 0.8705\n",
            "Epoch 5/50\n",
            "34799/34799 [==============================] - 30s 865us/step - loss: 0.5371 - acc: 0.8293 - val_loss: 0.4875 - val_acc: 0.8902\n",
            "Epoch 6/50\n",
            "34799/34799 [==============================] - 30s 861us/step - loss: 0.4669 - acc: 0.8524 - val_loss: 0.4368 - val_acc: 0.8989\n",
            "Epoch 7/50\n",
            "34799/34799 [==============================] - 30s 862us/step - loss: 0.4196 - acc: 0.8660 - val_loss: 0.4061 - val_acc: 0.9059\n",
            "Epoch 8/50\n",
            "34799/34799 [==============================] - 30s 860us/step - loss: 0.3912 - acc: 0.8768 - val_loss: 0.3638 - val_acc: 0.9154\n",
            "Epoch 9/50\n",
            "34799/34799 [==============================] - 30s 855us/step - loss: 0.3548 - acc: 0.8886 - val_loss: 0.3426 - val_acc: 0.9186\n",
            "Epoch 10/50\n",
            "34799/34799 [==============================] - 30s 849us/step - loss: 0.3327 - acc: 0.8934 - val_loss: 0.3330 - val_acc: 0.9234\n",
            "Epoch 11/50\n",
            "34799/34799 [==============================] - 30s 852us/step - loss: 0.3083 - acc: 0.9032 - val_loss: 0.3114 - val_acc: 0.9324\n",
            "Epoch 12/50\n",
            "34799/34799 [==============================] - 30s 852us/step - loss: 0.2931 - acc: 0.9057 - val_loss: 0.2991 - val_acc: 0.9299\n",
            "Epoch 13/50\n",
            "34799/34799 [==============================] - 29s 847us/step - loss: 0.2827 - acc: 0.9099 - val_loss: 0.2921 - val_acc: 0.9313\n",
            "Epoch 14/50\n",
            "34799/34799 [==============================] - 29s 846us/step - loss: 0.2637 - acc: 0.9159 - val_loss: 0.2674 - val_acc: 0.9406\n",
            "Epoch 15/50\n",
            "34799/34799 [==============================] - 29s 846us/step - loss: 0.2414 - acc: 0.9227 - val_loss: 0.2617 - val_acc: 0.9406\n",
            "Epoch 16/50\n",
            "34799/34799 [==============================] - 30s 850us/step - loss: 0.2393 - acc: 0.9238 - val_loss: 0.2461 - val_acc: 0.9404\n",
            "Epoch 17/50\n",
            "34799/34799 [==============================] - 30s 849us/step - loss: 0.2242 - acc: 0.9279 - val_loss: 0.2486 - val_acc: 0.9354\n",
            "Epoch 18/50\n",
            "34799/34799 [==============================] - 29s 847us/step - loss: 0.2169 - acc: 0.9304 - val_loss: 0.2425 - val_acc: 0.9358\n",
            "Epoch 19/50\n",
            "34799/34799 [==============================] - 29s 847us/step - loss: 0.2051 - acc: 0.9358 - val_loss: 0.2320 - val_acc: 0.9397\n",
            "Epoch 20/50\n",
            "34799/34799 [==============================] - 29s 846us/step - loss: 0.1987 - acc: 0.9371 - val_loss: 0.2201 - val_acc: 0.9476\n",
            "Epoch 21/50\n",
            "34799/34799 [==============================] - 30s 849us/step - loss: 0.1954 - acc: 0.9365 - val_loss: 0.2072 - val_acc: 0.9533\n",
            "Epoch 22/50\n",
            "34799/34799 [==============================] - 30s 849us/step - loss: 0.1854 - acc: 0.9399 - val_loss: 0.2113 - val_acc: 0.9508\n",
            "Epoch 23/50\n",
            "34799/34799 [==============================] - 29s 845us/step - loss: 0.1728 - acc: 0.9445 - val_loss: 0.2011 - val_acc: 0.9497\n",
            "Epoch 24/50\n",
            "34799/34799 [==============================] - 29s 842us/step - loss: 0.1794 - acc: 0.9430 - val_loss: 0.2091 - val_acc: 0.9460\n",
            "Epoch 25/50\n",
            "34799/34799 [==============================] - 29s 843us/step - loss: 0.1719 - acc: 0.9453 - val_loss: 0.2026 - val_acc: 0.9458\n",
            "Epoch 26/50\n",
            "34799/34799 [==============================] - 30s 850us/step - loss: 0.1661 - acc: 0.9459 - val_loss: 0.1979 - val_acc: 0.9542\n",
            "Epoch 27/50\n",
            "34799/34799 [==============================] - 30s 850us/step - loss: 0.1577 - acc: 0.9486 - val_loss: 0.1896 - val_acc: 0.9531\n",
            "Epoch 28/50\n",
            "34799/34799 [==============================] - 30s 849us/step - loss: 0.1583 - acc: 0.9483 - val_loss: 0.1750 - val_acc: 0.9608\n",
            "Epoch 29/50\n",
            "34799/34799 [==============================] - 29s 848us/step - loss: 0.1471 - acc: 0.9517 - val_loss: 0.1736 - val_acc: 0.9546\n",
            "Epoch 30/50\n",
            "34799/34799 [==============================] - 29s 847us/step - loss: 0.1528 - acc: 0.9508 - val_loss: 0.1840 - val_acc: 0.9562\n",
            "Epoch 31/50\n",
            "34799/34799 [==============================] - 29s 847us/step - loss: 0.1498 - acc: 0.9511 - val_loss: 0.1722 - val_acc: 0.9562\n",
            "Epoch 32/50\n",
            "34799/34799 [==============================] - 29s 846us/step - loss: 0.1391 - acc: 0.9553 - val_loss: 0.1734 - val_acc: 0.9562\n",
            "Epoch 33/50\n",
            "34799/34799 [==============================] - 29s 847us/step - loss: 0.1363 - acc: 0.9557 - val_loss: 0.1658 - val_acc: 0.9590\n",
            "Epoch 34/50\n",
            "34799/34799 [==============================] - 29s 847us/step - loss: 0.1364 - acc: 0.9560 - val_loss: 0.1747 - val_acc: 0.9546\n",
            "Epoch 35/50\n",
            "34799/34799 [==============================] - 29s 845us/step - loss: 0.1398 - acc: 0.9550 - val_loss: 0.1659 - val_acc: 0.9601\n",
            "Epoch 36/50\n",
            "34799/34799 [==============================] - 29s 845us/step - loss: 0.1314 - acc: 0.9570 - val_loss: 0.1585 - val_acc: 0.9576\n",
            "Epoch 37/50\n",
            "34799/34799 [==============================] - 30s 849us/step - loss: 0.1227 - acc: 0.9599 - val_loss: 0.1622 - val_acc: 0.9580\n",
            "Epoch 38/50\n",
            "34799/34799 [==============================] - 30s 851us/step - loss: 0.1207 - acc: 0.9611 - val_loss: 0.1518 - val_acc: 0.9599\n",
            "Epoch 39/50\n",
            "34799/34799 [==============================] - 30s 849us/step - loss: 0.1267 - acc: 0.9596 - val_loss: 0.1634 - val_acc: 0.9551\n",
            "Epoch 40/50\n",
            "34799/34799 [==============================] - 30s 848us/step - loss: 0.1272 - acc: 0.9589 - val_loss: 0.1553 - val_acc: 0.9601\n",
            "Epoch 41/50\n",
            "34799/34799 [==============================] - 29s 847us/step - loss: 0.1257 - acc: 0.9612 - val_loss: 0.1580 - val_acc: 0.9587\n",
            "Epoch 42/50\n",
            "34799/34799 [==============================] - 30s 848us/step - loss: 0.1163 - acc: 0.9618 - val_loss: 0.1437 - val_acc: 0.9628\n",
            "Epoch 43/50\n",
            "34799/34799 [==============================] - 29s 842us/step - loss: 0.1075 - acc: 0.9651 - val_loss: 0.1503 - val_acc: 0.9587\n",
            "Epoch 44/50\n",
            "34799/34799 [==============================] - 29s 845us/step - loss: 0.1170 - acc: 0.9617 - val_loss: 0.1640 - val_acc: 0.9590\n",
            "Epoch 45/50\n",
            "34799/34799 [==============================] - 30s 849us/step - loss: 0.1118 - acc: 0.9627 - val_loss: 0.1427 - val_acc: 0.9605\n",
            "Epoch 46/50\n",
            "34799/34799 [==============================] - 30s 848us/step - loss: 0.1091 - acc: 0.9644 - val_loss: 0.1422 - val_acc: 0.9635\n",
            "Epoch 47/50\n",
            "34799/34799 [==============================] - 30s 850us/step - loss: 0.1069 - acc: 0.9656 - val_loss: 0.1422 - val_acc: 0.9660\n",
            "Epoch 48/50\n",
            "34799/34799 [==============================] - 30s 850us/step - loss: 0.1083 - acc: 0.9648 - val_loss: 0.1481 - val_acc: 0.9601\n",
            "Epoch 49/50\n",
            "34799/34799 [==============================] - 30s 849us/step - loss: 0.1019 - acc: 0.9659 - val_loss: 0.1404 - val_acc: 0.9599\n",
            "Epoch 50/50\n",
            "34799/34799 [==============================] - 30s 849us/step - loss: 0.1036 - acc: 0.9663 - val_loss: 0.1432 - val_acc: 0.9605\n"
          ],
          "name": "stdout"
        }
      ]
    },
    {
      "cell_type": "code",
      "metadata": {
        "id": "9S51ZoiFeyZ6",
        "colab_type": "code",
        "outputId": "58981b16-1416-497d-dfeb-de576c84486e",
        "colab": {
          "base_uri": "https://localhost:8080/",
          "height": 312
        }
      },
      "source": [
        "plt.plot(history.history['loss'])\n",
        "plt.plot(history.history['val_loss'])\n",
        "plt.legend(['loss','val_loss'])\n",
        "plt.title('Loss')\n",
        "plt.xlabel('epoch')"
      ],
      "execution_count": 0,
      "outputs": [
        {
          "output_type": "execute_result",
          "data": {
            "text/plain": [
              "Text(0.5, 0, 'epoch')"
            ]
          },
          "metadata": {
            "tags": []
          },
          "execution_count": 32
        },
        {
          "output_type": "display_data",
          "data": {
            "image/png": "[encoded data removed]",
            "text/plain": [
              "<Figure size 432x288 with 1 Axes>"
            ]
          },
          "metadata": {
            "tags": []
          }
        }
      ]
    },
    {
      "cell_type": "code",
      "metadata": {
        "id": "7aQKrBkxp_Zm",
        "colab_type": "code",
        "outputId": "7f987ab9-434b-44be-c778-ab138a516089",
        "colab": {
          "base_uri": "https://localhost:8080/",
          "height": 312
        }
      },
      "source": [
        "plt.plot(history.history['acc'])\n",
        "plt.plot(history.history['val_acc'])\n",
        "plt.legend(['acc','val_acc'])\n",
        "plt.title('Accuracy')\n",
        "plt.xlabel('epoch')"
      ],
      "execution_count": 0,
      "outputs": [
        {
          "output_type": "execute_result",
          "data": {
            "text/plain": [
              "Text(0.5, 0, 'epoch')"
            ]
          },
          "metadata": {
            "tags": []
          },
          "execution_count": 33
        },
        {
          "output_type": "display_data",
          "data": {
            "image/png": "[encoded data removed]",
            "text/plain": [
              "<Figure size 432x288 with 1 Axes>"
            ]
          },
          "metadata": {
            "tags": []
          }
        }
      ]
    },
    {
      "cell_type": "code",
      "metadata": {
        "id": "vQOOkYpsiYdP",
        "colab_type": "code",
        "colab": {}
      },
      "source": [
        "from PIL import Image\n",
        "import io\n",
        "import requests\n",
        "import cv2 as cv\n",
        "import numpy as np\n"
      ],
      "execution_count": 0,
      "outputs": []
    },
    {
      "cell_type": "code",
      "metadata": {
        "id": "zN-FdsmoqUQd",
        "colab_type": "code",
        "colab": {}
      },
      "source": [
        "url=\"https://encrypted-tbn0.gstatic.com/images?q=tbn:ANd9GcShJSDAy5cQS7TJ4qZLPUjIU6-J53QtGtRgQCj2WiSn-MA1e1J4_g\"\n",
        "#url=\"https://encrypted-tbn0.gstatic.com/images?q=tbn:ANd9GcQAPwv6gECC1owK3KoupsxmqDkXOdypM-v9BQvOiCw8JeLEe2L46w\"\n",
        "#url=\"https://cdn3.volusion.com/tnoys.cjerh/v/vspfiles/photos/0387-2.jpg?1531417703\"\n",
        "img=np.array(Image.open(io.BytesIO(requests.get(url,stream=True).content)))"
      ],
      "execution_count": 0,
      "outputs": []
    },
    {
      "cell_type": "code",
      "metadata": {
        "id": "IH1ukeu3jFWe",
        "colab_type": "code",
        "outputId": "4e58e12c-e33a-4b0d-cec6-7eab19405c66",
        "colab": {
          "base_uri": "https://localhost:8080/",
          "height": 286
        }
      },
      "source": [
        "plt.imshow(img,cmap=\"gray\")"
      ],
      "execution_count": 0,
      "outputs": [
        {
          "output_type": "execute_result",
          "data": {
            "text/plain": [
              "<matplotlib.image.AxesImage at 0x7f3af659feb8>"
            ]
          },
          "metadata": {
            "tags": []
          },
          "execution_count": 45
        },
        {
          "output_type": "display_data",
          "data": {
            "image/png": "[encoded data removed]",
            "text/plain": [
              "<Figure size 432x288 with 1 Axes>"
            ]
          },
          "metadata": {
            "tags": []
          }
        }
      ]
    },
    {
      "cell_type": "code",
      "metadata": {
        "id": "O15VjvewjHq0",
        "colab_type": "code",
        "colab": {}
      },
      "source": [
        "img=cv.resize(img,(32,32))"
      ],
      "execution_count": 0,
      "outputs": []
    },
    {
      "cell_type": "code",
      "metadata": {
        "id": "hoO3TvbUrCZ8",
        "colab_type": "code",
        "colab": {}
      },
      "source": [
        "img=pre_pro(img)"
      ],
      "execution_count": 0,
      "outputs": []
    },
    {
      "cell_type": "code",
      "metadata": {
        "id": "6q8-YBqhrRhi",
        "colab_type": "code",
        "colab": {}
      },
      "source": [
        "img=img.reshape([1,32,32,1])"
      ],
      "execution_count": 0,
      "outputs": []
    },
    {
      "cell_type": "code",
      "metadata": {
        "id": "10GSzik2ravK",
        "colab_type": "code",
        "outputId": "758fdb09-d68e-4b67-c179-690c895112f0",
        "colab": {
          "base_uri": "https://localhost:8080/",
          "height": 34
        }
      },
      "source": [
        "lenet.predict_classes(img)"
      ],
      "execution_count": 0,
      "outputs": [
        {
          "output_type": "execute_result",
          "data": {
            "text/plain": [
              "array([15])"
            ]
          },
          "metadata": {
            "tags": []
          },
          "execution_count": 49
        }
      ]
    },
    {
      "cell_type": "code",
      "metadata": {
        "id": "3mfuma7GrhvI",
        "colab_type": "code",
        "outputId": "fc5e88d3-ddcf-4681-bbdc-6dabfdbc9be7",
        "colab": {
          "base_uri": "https://localhost:8080/",
          "height": 34
        }
      },
      "source": [
        "data.values[15]"
      ],
      "execution_count": 0,
      "outputs": [
        {
          "output_type": "execute_result",
          "data": {
            "text/plain": [
              "array([15, 'No vechiles'], dtype=object)"
            ]
          },
          "metadata": {
            "tags": []
          },
          "execution_count": 50
        }
      ]
    },
    {
      "cell_type": "code",
      "metadata": {
        "id": "mGWGJ_Jwroi1",
        "colab_type": "code",
        "colab": {}
      },
      "source": [
        ""
      ],
      "execution_count": 0,
      "outputs": []
    }
  ]
}